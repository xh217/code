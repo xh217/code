{
  "cells": [
    {
      "cell_type": "markdown",
      "metadata": {
        "id": "view-in-github",
        "colab_type": "text"
      },
      "source": [
        "<a href=\"https://colab.research.google.com/github/xh217/code/blob/main/Untitled0.ipynb\" target=\"_parent\"><img src=\"https://colab.research.google.com/assets/colab-badge.svg\" alt=\"Open In Colab\"/></a>"
      ]
    },
    {
      "cell_type": "markdown",
      "source": [
        "Question 15.2\n",
        "In the videos, we saw the “diet problem”. (The diet problem is one of the first large-scale optimization problems to be studied in practice. Back in the 1930’s and 40’s, the Army wanted to meet the nutritional requirements of its soldiers while minimizing the cost.) In this homework you get to solve a diet problem with real data. The data is given in the file diet.xls.\n",
        "\n",
        "Formulate an optimization model (a linear program) to find the cheapest diet that satisfies the maximum and minimum daily nutrition constraints, and solve it using PuLP. Turn in your code and the solution. (The optimal solution should be a diet of air-popped popcorn, poached eggs,oranges, raw iceberg lettuce, raw celery, and frozen broccoli. UGH!)\n",
        "Please add to your model the following constraints (which might require adding more variables) and solve the new model: a. If a food is selected, then a minimum of 1/10 serving must be chosen. (Hint: now you will need two variables for each food i: whether it is chosen, and how much is part of the diet. You’ll also need to write a constraint to link them.) b. Many people dislike celery and frozen broccoli. So at most one, but not both, can be selected. c. To get day-to-day variety in protein, at least 3 kinds of meat/poultry/fish/eggs must be selected. [If something is ambiguous (e.g., should bean-and-bacon soup be considered meat?), just call it whatever you think is appropriate – I want you to learn how to write this type of constraint, but I don’t really care whether we agree on how to classify foods!] If you want to see what a more full-sized problem would look like, try solving your models for the file diet_large.xls, which is a low-cholesterol diet model (rather than minimizing cost, the goal is to minimize cholesterol intake). I don’t know anyone who’d want to eat this diet – the optimal solution includes dried chrysanthemum garland, raw beluga whale flipper, freeze-dried parsley, etc. – which shows why it’s necessary to add additional constraints beyond the basic ones we saw in the video! [Note: there are many optimal solutions, all with zero cholesterol, so you might get a different one. It probably won’t be much more appetizing than mine.]"
      ],
      "metadata": {
        "id": "RFCW3PSVhQnu"
      }
    },
    {
      "cell_type": "code",
      "execution_count": 1,
      "metadata": {
        "colab": {
          "base_uri": "https://localhost:8080/",
          "height": 0
        },
        "id": "WamZBeMSSjei",
        "outputId": "1b6c8072-a0b7-43ea-9cf3-a5ff05d52962"
      },
      "outputs": [
        {
          "output_type": "stream",
          "name": "stdout",
          "text": [
            "Collecting PuLP\n",
            "  Downloading pulp-3.1.1-py3-none-any.whl.metadata (1.3 kB)\n",
            "Downloading pulp-3.1.1-py3-none-any.whl (16.4 MB)\n",
            "\u001b[2K   \u001b[90m━━━━━━━━━━━━━━━━━━━━━━━━━━━━━━━━━━━━━━━━\u001b[0m \u001b[32m16.4/16.4 MB\u001b[0m \u001b[31m27.5 MB/s\u001b[0m eta \u001b[36m0:00:00\u001b[0m\n",
            "\u001b[?25hInstalling collected packages: PuLP\n",
            "Successfully installed PuLP-3.1.1\n"
          ]
        }
      ],
      "source": [
        "!pip install PuLP"
      ]
    },
    {
      "cell_type": "code",
      "source": [
        "import pulp\n",
        "from pulp import *\n",
        "import pandas as pd\n",
        "\n",
        "#load data\n",
        "data = pd.read_excel('/content/diet.xlsx')\n",
        "data = data.head(64)\n",
        "nutrients = data.columns[-11:]"
      ],
      "metadata": {
        "id": "VPgR1HztIUS-"
      },
      "execution_count": 28,
      "outputs": []
    },
    {
      "cell_type": "code",
      "execution_count": 29,
      "metadata": {
        "id": "WW4DpByucgHm"
      },
      "outputs": [],
      "source": [
        "#convert to list\n",
        "data = data.values.tolist()"
      ]
    },
    {
      "cell_type": "code",
      "source": [
        "#extract food names and create dict for nutritinal values\n",
        "Food_name = [row[0] for row in data]\n",
        "nutrients_serve = {nutrient : {row[0]: (row[i+3]) for row in data} for i, nutrient in enumerate(nutrients)}\n",
        "nutrients_serve"
      ],
      "metadata": {
        "id": "9OlmNdiaLGSB"
      },
      "execution_count": 30,
      "outputs": []
    },
    {
      "cell_type": "code",
      "source": [
        "#cost dict\n",
        "price = {row[0]:row[1] for row in data}\n",
        "price"
      ],
      "metadata": {
        "colab": {
          "base_uri": "https://localhost:8080/"
        },
        "id": "LXFrOSVKUy_h",
        "outputId": "4e489335-6566-4421-f041-e36c81c92270"
      },
      "execution_count": 47,
      "outputs": [
        {
          "output_type": "execute_result",
          "data": {
            "text/plain": [
              "{'Frozen Broccoli': 0.16,\n",
              " 'Carrots,Raw': 0.07,\n",
              " 'Celery, Raw': 0.04,\n",
              " 'Frozen Corn': 0.18,\n",
              " 'Lettuce,Iceberg,Raw': 0.02,\n",
              " 'Peppers, Sweet, Raw': 0.53,\n",
              " 'Potatoes, Baked': 0.06,\n",
              " 'Tofu': 0.31,\n",
              " 'Roasted Chicken': 0.84,\n",
              " 'Spaghetti W/ Sauce': 0.78,\n",
              " 'Tomato,Red,Ripe,Raw': 0.27,\n",
              " 'Apple,Raw,W/Skin': 0.24,\n",
              " 'Banana': 0.15,\n",
              " 'Grapes': 0.32,\n",
              " 'Kiwifruit,Raw,Fresh': 0.49,\n",
              " 'Oranges': 0.15,\n",
              " 'Bagels': 0.16,\n",
              " 'Wheat Bread': 0.05,\n",
              " 'White Bread': 0.06,\n",
              " 'Oatmeal Cookies': 0.09,\n",
              " 'Apple Pie': 0.16,\n",
              " 'Chocolate Chip Cookies': 0.03,\n",
              " 'Butter,Regular': 0.05,\n",
              " 'Cheddar Cheese': 0.25,\n",
              " '3.3% Fat,Whole Milk': 0.16,\n",
              " '2% Lowfat Milk': 0.23,\n",
              " 'Skim Milk': 0.13,\n",
              " 'Poached Eggs': 0.08,\n",
              " 'Scrambled Eggs': 0.11,\n",
              " 'Bologna,Turkey': 0.15,\n",
              " 'Frankfurter, Beef': 0.27,\n",
              " 'Ham,Sliced,Extralean': 0.33,\n",
              " 'Kielbasa,Prk': 0.15,\n",
              " \"Cap'N Crunch\": 0.31,\n",
              " 'Cheerios': 0.28,\n",
              " \"Corn Flks, Kellogg'S\": 0.28,\n",
              " \"Raisin Brn, Kellg'S\": 0.34,\n",
              " 'Rice Krispies': 0.32,\n",
              " 'Special K': 0.38,\n",
              " 'Oatmeal': 0.82,\n",
              " 'Malt-O-Meal,Choc': 0.52,\n",
              " 'Pizza W/Pepperoni': 0.44,\n",
              " 'Taco': 0.59,\n",
              " 'Hamburger W/Toppings': 0.83,\n",
              " 'Hotdog, Plain': 0.31,\n",
              " 'Couscous': 0.39,\n",
              " 'White Rice': 0.08,\n",
              " 'Macaroni,Ckd': 0.17,\n",
              " 'Peanut Butter': 0.07,\n",
              " 'Pork': 0.81,\n",
              " 'Sardines in Oil': 0.45,\n",
              " 'White Tuna in Water': 0.69,\n",
              " 'Popcorn,Air-Popped': 0.04,\n",
              " 'Potato Chips,Bbqflvr': 0.22,\n",
              " 'Pretzels': 0.12,\n",
              " 'Tortilla Chip': 0.19,\n",
              " 'Chicknoodl Soup': 0.39,\n",
              " 'Splt Pea&Hamsoup': 0.67,\n",
              " 'Vegetbeef Soup': 0.71,\n",
              " 'Neweng Clamchwd': 0.75,\n",
              " 'Tomato Soup': 0.39,\n",
              " 'New E Clamchwd,W/Mlk': 0.99,\n",
              " 'Crm Mshrm Soup,W/Mlk': 0.65,\n",
              " 'Beanbacn Soup,W/Watr': 0.67}"
            ]
          },
          "metadata": {},
          "execution_count": 47
        }
      ]
    },
    {
      "cell_type": "code",
      "source": [
        "#define nitrient constraints\n",
        "n_min = [1500, 30, 20, 800, 130, 125, 60, 1000, 400, 700, 10]\n",
        "n_max = [2500, 240, 70, 2000, 450, 250, 100, 10000, 5000, 1500, 40]"
      ],
      "metadata": {
        "id": "GiP4VOdRVj2x"
      },
      "execution_count": 32,
      "outputs": []
    },
    {
      "cell_type": "code",
      "source": [
        "#create dict of constranit for each nutrient\n",
        "B = [{row[0]:row[i+3] for row in data} for i in range(11)]\n",
        "B"
      ],
      "metadata": {
        "id": "bhaQEtcWV7SM"
      },
      "execution_count": 33,
      "outputs": []
    },
    {
      "cell_type": "code",
      "source": [
        "# define the optimization problem\n",
        "problem = LpProblem('diet',LpMinimize)"
      ],
      "metadata": {
        "id": "F_z0fRuQWX2T"
      },
      "execution_count": 34,
      "outputs": []
    },
    {
      "cell_type": "code",
      "source": [
        "# decision Variables\n",
        "food_vars = LpVariable.dicts('Food',Food_name,lowBound=0)\n",
        "chosen_vars=LpVariable.dicts('chosen', Food_name, 0,1, cat='Binary')"
      ],
      "metadata": {
        "id": "Ds9DiORxWttW"
      },
      "execution_count": 35,
      "outputs": []
    },
    {
      "cell_type": "code",
      "source": [
        "# Objective function\n",
        "problem +=lpSum(price[i]*food_vars[i] for i in Food_name)"
      ],
      "metadata": {
        "id": "KoHz2pZdXOab"
      },
      "execution_count": 36,
      "outputs": []
    },
    {
      "cell_type": "code",
      "source": [
        "#clear existing constraints\n",
        "problem.constraints.clear()\n",
        "# add constraints\n",
        "# food selection constraits\n",
        "for i in Food_name:\n",
        "  problem +=food_vars[i]>=0.01*chosen_vars[i]\n",
        "  problem +=food_vars[i]<=10000*chosen_vars[i]\n",
        "\n",
        "#nutrient constraints\n",
        "for j, nutrient in enumerate(nutrients):\n",
        "  problem += lpSum(B[j][i] * food_vars[i] for i in Food_name) >= n_min[j]  # Compare with element of n_min\n",
        "  problem += lpSum(B[j][i] * food_vars[i] for i in Food_name) <= n_max[j]  # Compare with element of n_max\n",
        "\n",
        "# special dietary constraints\n",
        "problem += chosen_vars[\"Frozen Broccoli\"] + chosen_vars[\"Celery, Raw\"] <= 1, \"MaxOne_Broccoli_Celery\"\n",
        "problem += (\n",
        "    chosen_vars[\"Roasted Chicken\"] + chosen_vars[\"Pork\"] +\n",
        "    chosen_vars[\"Sardines in Oil\"] + chosen_vars[\"Frankfurter, Beef\"] +\n",
        "    chosen_vars[\"Kielbasa,Prk\"] + chosen_vars[\"Hamburger W/Toppings\"] +\n",
        "    chosen_vars[\"Hotdog, Plain\"] +\n",
        "    chosen_vars[\"Bologna,Turkey\"] + chosen_vars[\"Ham,Sliced,Extralean\"]\n",
        ") >= 3, \"AtLeastThreeProteins\"\n"
      ],
      "metadata": {
        "id": "skBgiSmKXmSk"
      },
      "execution_count": 44,
      "outputs": []
    },
    {
      "cell_type": "code",
      "source": [
        "#solve the problem\n",
        "problem.solve()"
      ],
      "metadata": {
        "colab": {
          "base_uri": "https://localhost:8080/",
          "height": 0
        },
        "id": "uoaVlpziZ2Yf",
        "outputId": "d22153b1-0349-4d85-f2ef-adaccd040c7f"
      },
      "execution_count": 40,
      "outputs": [
        {
          "output_type": "execute_result",
          "data": {
            "text/plain": [
              "1"
            ]
          },
          "metadata": {},
          "execution_count": 40
        }
      ]
    },
    {
      "cell_type": "code",
      "source": [
        "from pulp import value\n",
        "\n",
        "# Print the foods selected in the optimal diet\n",
        "print(\"Optimization Solution:\")\n",
        "for var in problem.variables():\n",
        "    if var.varValue > 0:\n",
        "        if \"Chosen\" not in var.name:\n",
        "            print(f\"{var.varValue:.2f} units of {var.name.replace('Food_', '')}\")\n",
        "\n",
        "# Print the total cost of the optimal diet\n",
        "print(f\"Total cost of food = ${value(problem.objective):.2f}\")"
      ],
      "metadata": {
        "colab": {
          "base_uri": "https://localhost:8080/",
          "height": 0
        },
        "id": "PhxYUPPrbg73",
        "outputId": "4d17d630-d502-436d-ac2f-c20f16b3cc52"
      },
      "execution_count": 45,
      "outputs": [
        {
          "output_type": "stream",
          "name": "stdout",
          "text": [
            "Optimization Solution:\n",
            "0.01 units of Bologna,Turkey\n",
            "43.10 units of Celery,_Raw\n",
            "81.05 units of Lettuce,Iceberg,Raw\n",
            "3.08 units of Oranges\n",
            "2.04 units of Peanut_Butter\n",
            "0.13 units of Poached_Eggs\n",
            "13.18 units of Popcorn,Air_Popped\n",
            "0.01 units of Scrambled_Eggs\n",
            "1.00 units of chosen_Bologna,Turkey\n",
            "1.00 units of chosen_Celery,_Raw\n",
            "1.00 units of chosen_Lettuce,Iceberg,Raw\n",
            "1.00 units of chosen_Oranges\n",
            "1.00 units of chosen_Peanut_Butter\n",
            "1.00 units of chosen_Poached_Eggs\n",
            "1.00 units of chosen_Popcorn,Air_Popped\n",
            "1.00 units of chosen_Scrambled_Eggs\n",
            "Total cost of food = $4.49\n"
          ]
        }
      ]
    }
  ],
  "metadata": {
    "colab": {
      "provenance": [],
      "toc_visible": true,
      "authorship_tag": "ABX9TyMyDC3Md12bvSF4wVl7+W1J",
      "include_colab_link": true
    },
    "kernelspec": {
      "display_name": "Python 3",
      "name": "python3"
    },
    "language_info": {
      "name": "python"
    }
  },
  "nbformat": 4,
  "nbformat_minor": 0
}